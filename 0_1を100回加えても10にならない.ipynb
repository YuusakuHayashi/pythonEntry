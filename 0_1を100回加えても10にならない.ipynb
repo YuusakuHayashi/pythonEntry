{
  "nbformat": 4,
  "nbformat_minor": 0,
  "metadata": {
    "colab": {
      "name": "0.1を100回加えても10にならない",
      "version": "0.3.2",
      "provenance": [],
      "collapsed_sections": [],
      "include_colab_link": true
    },
    "kernelspec": {
      "name": "python3",
      "display_name": "Python 3"
    }
  },
  "cells": [
    {
      "cell_type": "markdown",
      "metadata": {
        "id": "view-in-github",
        "colab_type": "text"
      },
      "source": [
        "<a href=\"https://colab.research.google.com/github/YuusakuHayashi/pythonEntry/blob/master/0_1%E3%82%92100%E5%9B%9E%E5%8A%A0%E3%81%88%E3%81%A6%E3%82%8210%E3%81%AB%E3%81%AA%E3%82%89%E3%81%AA%E3%81%84.ipynb\" target=\"_parent\"><img src=\"https://colab.research.google.com/assets/colab-badge.svg\" alt=\"Open In Colab\"/></a>"
      ]
    },
    {
      "metadata": {
        "id": "ymnZoBqZXDG6",
        "colab_type": "code",
        "colab": {
          "base_uri": "https://localhost:8080/",
          "height": 51
        },
        "outputId": "bf1876da-6652-4a95-ea79-abf2a942f916"
      },
      "cell_type": "code",
      "source": [
        "def main(arg):\n",
        "  sum = 0\n",
        "  i = 0\n",
        "  while i < arg:\n",
        "    sum += 0.1\n",
        "    i += 1\n",
        "  return sum\n",
        "\n",
        "print(main(100))\n",
        "print(main(101))\n",
        "  "
      ],
      "execution_count": 6,
      "outputs": [
        {
          "output_type": "stream",
          "text": [
            "9.99999999999998\n",
            "10.09999999999998\n"
          ],
          "name": "stdout"
        }
      ]
    }
  ]
}