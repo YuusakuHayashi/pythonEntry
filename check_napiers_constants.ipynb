{
  "nbformat": 4,
  "nbformat_minor": 0,
  "metadata": {
    "colab": {
      "name": "check_napiers_constants",
      "provenance": [],
      "authorship_tag": "ABX9TyNHTnaMlftemREmpiMGkSZ/",
      "include_colab_link": true
    },
    "kernelspec": {
      "name": "python3",
      "display_name": "Python 3"
    }
  },
  "cells": [
    {
      "cell_type": "markdown",
      "metadata": {
        "id": "view-in-github",
        "colab_type": "text"
      },
      "source": [
        "<a href=\"https://colab.research.google.com/github/YuusakuHayashi/pythonEntry/blob/master/check_napiers_constants.ipynb\" target=\"_parent\"><img src=\"https://colab.research.google.com/assets/colab-badge.svg\" alt=\"Open In Colab\"/></a>"
      ]
    },
    {
      "cell_type": "code",
      "metadata": {
        "id": "HuQGp0FIdr-1",
        "colab_type": "code",
        "colab": {
          "base_uri": "https://localhost:8080/",
          "height": 204
        },
        "outputId": "5ca82ec1-1d16-4192-959f-74fa48183fdf"
      },
      "source": [
        "import numpy as np\n",
        "np.set_printoptions(precision=10)\n",
        "x = np.logspace(0, 11, 12, base=0.1, dtype='float64')\n",
        "y = np.power(1+x, 1/x)\n",
        "for i in range(11):\n",
        "  print('x = %12.10f y = %12.10f' % (x[i], y[i]))"
      ],
      "execution_count": 4,
      "outputs": [
        {
          "output_type": "stream",
          "text": [
            "x = 1.0000000000 y = 2.0000000000\n",
            "x = 0.1000000000 y = 2.5937424601\n",
            "x = 0.0100000000 y = 2.7048138294\n",
            "x = 0.0010000000 y = 2.7169239322\n",
            "x = 0.0001000000 y = 2.7181459268\n",
            "x = 0.0000100000 y = 2.7182682372\n",
            "x = 0.0000010000 y = 2.7182804691\n",
            "x = 0.0000001000 y = 2.7182816941\n",
            "x = 0.0000000100 y = 2.7182817983\n",
            "x = 0.0000000010 y = 2.7182820520\n",
            "x = 0.0000000001 y = 2.7182820532\n"
          ],
          "name": "stdout"
        }
      ]
    }
  ]
}