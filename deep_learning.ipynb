{
  "nbformat": 4,
  "nbformat_minor": 0,
  "metadata": {
    "colab": {
      "name": "deep_learning",
      "provenance": [],
      "collapsed_sections": [],
      "authorship_tag": "ABX9TyObYrwuXqOdti6Z1tIjokrj",
      "include_colab_link": true
    },
    "kernelspec": {
      "name": "python3",
      "display_name": "Python 3"
    }
  },
  "cells": [
    {
      "cell_type": "markdown",
      "metadata": {
        "id": "view-in-github",
        "colab_type": "text"
      },
      "source": [
        "<a href=\"https://colab.research.google.com/github/YuusakuHayashi/pythonEntry/blob/master/deep_learning.ipynb\" target=\"_parent\"><img src=\"https://colab.research.google.com/assets/colab-badge.svg\" alt=\"Open In Colab\"/></a>"
      ]
    },
    {
      "cell_type": "code",
      "metadata": {
        "id": "HuQGp0FIdr-1",
        "colab_type": "code",
        "colab": {}
      },
      "source": [
        "import numpy as np\n",
        "\n",
        "# ネイピア数の確認\n",
        "np.set_printoptions(precision=10)\n",
        "x = np.logspace(0, 11, 12, base=0.1, dtype='float64')\n",
        "y = np.power(1+x, 1/x)\n",
        "for i in range(11):\n",
        "  print('x = %12.10f y = %12.10f' % (x[i], y[i]))"
      ],
      "execution_count": 0,
      "outputs": []
    },
    {
      "cell_type": "code",
      "metadata": {
        "id": "5kDrDPPygtpk",
        "colab_type": "code",
        "colab": {}
      },
      "source": [
        "import numpy as np\n",
        "import scipy.special as scm\n",
        "import matplotlib.pyplot as plt\n",
        "\n",
        "# 正規分布関数の定義\n",
        "'''\n",
        "    正規分布関数の式\n",
        "        f(x, mu, sig) = (1/route(2pi)sig)*exp(-(x - mu)^2/2sig^2)\n",
        "    nを試行回数として、\n",
        "        確率P(X1 = 1) = pの時、\n",
        "            mu=np\n",
        "            sig^2=np(1-p)\n",
        "    p(ある事象が発生する確率)は1/2という前提を置く、よって\n",
        "        mu=n/2\n",
        "        sig^2=n/4\n",
        "        sig=n/2=mu\n",
        "'''\n",
        "\n",
        "def gauss(x, n):\n",
        "    #m = n/2\n",
        "    #return np.exp(-(x-m)**2 / m) / np.sqrt(m * np.pi)\n",
        "    #return np.exp(-(x-(n/2))**2 / (n/2)) / np.sqrt((n/2) * np.pi)\n",
        "    molecule=np.exp(-(x-(n/2))**2 / (n/2))\n",
        "    demoninator=np.sqrt((n/2) * np.pi)\n",
        "    return molecule/demoninator\n",
        "\n",
        "# 正規分布関数と二項分布のヒストグラム描画\n",
        "# 試行回数\n",
        "N = 1000\n",
        "# 試行回数\n",
        "M = 2**N\n",
        "X = range(440,561)\n",
        "plt.bar(X, [scm.comb(N, i)/M for i in X])\n",
        "plt.plot(X, gauss(np.array(X), N), c='k', linewidth=2)\n",
        "plt.show()"
      ],
      "execution_count": 0,
      "outputs": []
    },
    {
      "cell_type": "code",
      "metadata": {
        "id": "qZwiIbYDkYZi",
        "colab_type": "code",
        "colab": {
          "base_uri": "https://localhost:8080/",
          "height": 34
        },
        "outputId": "4338250f-c7a7-4665-f80c-1061876702e7"
      },
      "source": [
        "import numpy as np\n",
        "from scipy import integrate\n",
        "# 正規分布関数の積分を行い、確率を求める\n",
        "'''\n",
        "    試行回数は1000回として、n/2=500の固定値を正規分布関数式に設定する\n",
        "    1/2の確率の事象が480回以下出現する確率を計算\n",
        "'''\n",
        "def normal(x):\n",
        "    molecule=np.exp(-(x-500)**2 / 500)\n",
        "    demoninator=np.sqrt(500 * np.pi)\n",
        "    return molecule/demoninator\n",
        "    \n",
        "integrate.quad(normal,0,480)"
      ],
      "execution_count": 2,
      "outputs": [
        {
          "output_type": "execute_result",
          "data": {
            "text/plain": [
              "(0.10295160536603419, 1.1220689434463503e-13)"
            ]
          },
          "metadata": {
            "tags": []
          },
          "execution_count": 2
        }
      ]
    },
    {
      "cell_type": "code",
      "metadata": {
        "id": "PvYVLMSoCaKh",
        "colab_type": "code",
        "colab": {}
      },
      "source": [
        ""
      ],
      "execution_count": 0,
      "outputs": []
    }
  ]
}