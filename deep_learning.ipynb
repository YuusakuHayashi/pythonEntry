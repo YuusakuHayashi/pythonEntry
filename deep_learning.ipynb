{
  "nbformat": 4,
  "nbformat_minor": 0,
  "metadata": {
    "colab": {
      "name": "deep_learning",
      "provenance": [],
      "collapsed_sections": [],
      "authorship_tag": "ABX9TyPvqB7o/cX+4OC4yKss6h43",
      "include_colab_link": true
    },
    "kernelspec": {
      "name": "python3",
      "display_name": "Python 3"
    }
  },
  "cells": [
    {
      "cell_type": "markdown",
      "metadata": {
        "id": "view-in-github",
        "colab_type": "text"
      },
      "source": [
        "<a href=\"https://colab.research.google.com/github/YuusakuHayashi/pythonEntry/blob/master/deep_learning.ipynb\" target=\"_parent\"><img src=\"https://colab.research.google.com/assets/colab-badge.svg\" alt=\"Open In Colab\"/></a>"
      ]
    },
    {
      "cell_type": "code",
      "metadata": {
        "id": "HuQGp0FIdr-1",
        "colab_type": "code",
        "colab": {}
      },
      "source": [
        "import numpy as np\n",
        "\n",
        "# ネイピア数の確認\n",
        "np.set_printoptions(precision=10)\n",
        "x = np.logspace(0, 11, 12, base=0.1, dtype='float64')\n",
        "y = np.power(1+x, 1/x)\n",
        "for i in range(11):\n",
        "  print('x = %12.10f y = %12.10f' % (x[i], y[i]))"
      ],
      "execution_count": 0,
      "outputs": []
    },
    {
      "cell_type": "code",
      "metadata": {
        "id": "5kDrDPPygtpk",
        "colab_type": "code",
        "outputId": "ec625b47-bc86-4305-ef36-d5c46f8b7019",
        "colab": {
          "base_uri": "https://localhost:8080/",
          "height": 265
        }
      },
      "source": [
        "import numpy as np\n",
        "import scipy.special as scm\n",
        "import matplotlib.pyplot as plt\n",
        "\n",
        "# 正規分布関数の定義\n",
        "'''\n",
        "    正規分布関数の式\n",
        "        f(x, mu, sig) = (1/route(2pi)sig)*exp(-(x - mu)^2/2sig^2)\n",
        "    nを試行回数として、\n",
        "        確率P(X1 = 1) = pの時、\n",
        "            mu=np\n",
        "            sig^2=np(1-p)\n",
        "    pは1/2という前提を置く、よって\n",
        "        mu=n/2\n",
        "        sig^2=n/4\n",
        "        sig=n/2=mu\n",
        "'''\n",
        "\n",
        "def gauss(x, n):\n",
        "    #m = n/2\n",
        "    #return np.exp(-(x-m)**2 / m) / np.sqrt(m * np.pi)\n",
        "    #return np.exp(-(x-(n/2))**2 / (n/2)) / np.sqrt((n/2) * np.pi)\n",
        "    molecule=np.exp(-(x-(n/2))**2 / (n/2))\n",
        "    demoninator=np.sqrt((n/2) * np.pi)\n",
        "    return molecule/demoninator\n",
        "\n",
        "# 正規分布関数と二項分布のヒストグラム描画\n",
        "N = 1000\n",
        "M = 2**N\n",
        "X = range(440,561)\n",
        "plt.bar(X, [scm.comb(N, i)/M for i in X])\n",
        "plt.plot(X, gauss(np.array(X), N), c='k', linewidth=2)\n",
        "plt.show()"
      ],
      "execution_count": 7,
      "outputs": [
        {
          "output_type": "display_data",
          "data": {
            "image/png": "[encoded data removed]",
            "text/plain": [
              "<Figure size 432x288 with 1 Axes>"
            ]
          },
          "metadata": {
            "tags": []
          }
        }
      ]
    }
  ]
}