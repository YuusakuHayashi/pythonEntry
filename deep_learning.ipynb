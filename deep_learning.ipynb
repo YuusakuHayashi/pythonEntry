{
  "nbformat": 4,
  "nbformat_minor": 0,
  "metadata": {
    "colab": {
      "name": "deep_learning",
      "provenance": [],
      "authorship_tag": "ABX9TyP40ZJlzqkNaRnRAziCbjDP",
      "include_colab_link": true
    },
    "kernelspec": {
      "name": "python3",
      "display_name": "Python 3"
    }
  },
  "cells": [
    {
      "cell_type": "markdown",
      "metadata": {
        "id": "view-in-github",
        "colab_type": "text"
      },
      "source": [
        "<a href=\"https://colab.research.google.com/github/YuusakuHayashi/pythonEntry/blob/master/deep_learning.ipynb\" target=\"_parent\"><img src=\"https://colab.research.google.com/assets/colab-badge.svg\" alt=\"Open In Colab\"/></a>"
      ]
    },
    {
      "cell_type": "code",
      "metadata": {
        "id": "HuQGp0FIdr-1",
        "colab_type": "code",
        "colab": {}
      },
      "source": [
        "import numpy as np\n",
        "\n",
        "# ネイピア数の確認\n",
        "np.set_printoptions(precision=10)\n",
        "x = np.logspace(0, 11, 12, base=0.1, dtype='float64')\n",
        "y = np.power(1+x, 1/x)\n",
        "for i in range(11):\n",
        "  print('x = %12.10f y = %12.10f' % (x[i], y[i]))"
      ],
      "execution_count": 0,
      "outputs": []
    }
  ]
}