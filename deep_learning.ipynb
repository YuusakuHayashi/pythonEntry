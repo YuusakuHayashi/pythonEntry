{
  "nbformat": 4,
  "nbformat_minor": 0,
  "metadata": {
    "colab": {
      "name": "deep_learning",
      "provenance": [],
      "collapsed_sections": [],
      "authorship_tag": "ABX9TyOQ33GFXYqEu2UqWnb8Cckg",
      "include_colab_link": true
    },
    "kernelspec": {
      "name": "python3",
      "display_name": "Python 3"
    }
  },
  "cells": [
    {
      "cell_type": "markdown",
      "metadata": {
        "id": "view-in-github",
        "colab_type": "text"
      },
      "source": [
        "<a href=\"https://colab.research.google.com/github/YuusakuHayashi/pythonEntry/blob/master/deep_learning.ipynb\" target=\"_parent\"><img src=\"https://colab.research.google.com/assets/colab-badge.svg\" alt=\"Open In Colab\"/></a>"
      ]
    },
    {
      "cell_type": "code",
      "metadata": {
        "id": "HuQGp0FIdr-1",
        "colab_type": "code",
        "colab": {}
      },
      "source": [
        "import numpy as np\n",
        "\n",
        "# ネイピア数の確認\n",
        "np.set_printoptions(precision=10)\n",
        "x = np.logspace(0, 11, 12, base=0.1, dtype='float64')\n",
        "y = np.power(1+x, 1/x)\n",
        "for i in range(11):\n",
        "  print('x = %12.10f y = %12.10f' % (x[i], y[i]))"
      ],
      "execution_count": 0,
      "outputs": []
    },
    {
      "cell_type": "code",
      "metadata": {
        "id": "5kDrDPPygtpk",
        "colab_type": "code",
        "colab": {
          "base_uri": "https://localhost:8080/",
          "height": 265
        },
        "outputId": "119746c2-f137-4ebd-a22f-89fb27d5d645"
      },
      "source": [
        "import numpy as np\n",
        "import scipy.special as scm\n",
        "import matplotlib.pyplot as plt\n",
        "\n",
        "# 正規分布関数の定義\n",
        "def gauss(x, n):\n",
        "    m = n/2\n",
        "    return np.exp(-(x-m)**2 / m) / np.sqrt(m * np.pi)\n",
        "\n",
        "# 正規分布関数と二項分布のヒストグラム描画\n",
        "N = 100\n",
        "M = 2**N\n",
        "X = range(440,561)\n",
        "plt.bar(X, [scm.comb(N, i)/M for i in X])\n",
        "plt.plot(X, gauss(np.array(X), N), c='k', linewidth=2)\n",
        "plt.show()"
      ],
      "execution_count": 2,
      "outputs": [
        {
          "output_type": "display_data",
          "data": {
            "image/png": "[encoded data removed]",
            "text/plain": [
              "<Figure size 432x288 with 1 Axes>"
            ]
          },
          "metadata": {
            "tags": []
          }
        }
      ]
    }
  ]
}